{
  "nbformat": 4,
  "nbformat_minor": 0,
  "metadata": {
    "colab": {
      "name": "Tugas 12 Muhammad Raihan Baswara (1101190350)",
      "provenance": [],
      "collapsed_sections": [],
      "include_colab_link": true
    },
    "kernelspec": {
      "name": "python3",
      "display_name": "Python 3"
    }
  },
  "cells": [
    {
      "cell_type": "markdown",
      "metadata": {
        "id": "view-in-github",
        "colab_type": "text"
      },
      "source": [
        "<a href=\"https://colab.research.google.com/github/MRaihanBaswara/Tugas_Python/blob/main/Tugas_12_Muhammad_Raihan_Baswara_(1101190350).ipynb\" target=\"_parent\"><img src=\"https://colab.research.google.com/assets/colab-badge.svg\" alt=\"Open In Colab\"/></a>"
      ]
    },
    {
      "cell_type": "markdown",
      "metadata": {
        "id": "uTlobIhGy2Fg"
      },
      "source": [
        "Muhammad Raihan Baswara TT-43-G5 (1101190350)"
      ]
    },
    {
      "cell_type": "code",
      "metadata": {
        "id": "Qf76DbSnywJz"
      },
      "source": [
        "import numpy as np"
      ],
      "execution_count": 6,
      "outputs": []
    },
    {
      "cell_type": "code",
      "metadata": {
        "id": "Wwy03OSKzIn2"
      },
      "source": [
        "def plc231(d,fc,area,ht,hr):\r\n",
        "  #hitung c1 dan c2 berdasarkan input fc\r\n",
        "  if fc in range(400,1500):\r\n",
        "    c1=69.55\r\n",
        "    c2=26.16\r\n",
        "  elif fc in range(1500,2000):\r\n",
        "    c1=46.3\r\n",
        "    c2=33.9\r\n",
        "\r\n",
        "  #hitung nilai a(hr)\r\n",
        "  ahr=(1.1*np.log10(fc)-0.7)*hr - (1.56*np.log10(fc)-0.8)\r\n",
        "\r\n",
        "  #hitung nilai cm\r\n",
        "  if area==\"urban\":\r\n",
        "    cm=0\r\n",
        "  elif area==\"suburban\":\r\n",
        "    cm=-2*(np.log10(fc/28)**2)-5.4\r\n",
        "  elif area==\"open\":\r\n",
        "    cm=-4.78*(np.log10(fc)**2)+18.33*np.log(fc)-40.94 \r\n",
        "\r\n",
        "  #hitung nilai pathloss\r\n",
        "  Lp = c1 + c2*np.log10(fc) - 13.83*np.log10(ht) - ahr + (44.9 - 6.55*np.log10(hr))*np.log10(d) + cm\r\n",
        "\r\n",
        "  return Lp"
      ],
      "execution_count": 7,
      "outputs": []
    },
    {
      "cell_type": "code",
      "metadata": {
        "colab": {
          "base_uri": "https://localhost:8080/"
        },
        "id": "MaA7yy6kzRqp",
        "outputId": "9e148836-0bf2-4a9b-df73-df8f067cff4a"
      },
      "source": [
        "#parameter : (jarak(km), frekuensi(MHz), tipe area(urban/suburban/open), tinggi antena pemancar(m), tinggi antena penerima(m))\r\n",
        "pathlossc231=plc231(10, 1200, \"urban\", 100, 20)\r\n",
        "print(\"Pathloss dalam dB : \",pathlossc231,\" dB\")"
      ],
      "execution_count": 3,
      "outputs": [
        {
          "output_type": "stream",
          "text": [
            "Pathloss dalam dB :  109.08117025579332  dB\n"
          ],
          "name": "stdout"
        }
      ]
    },
    {
      "cell_type": "code",
      "metadata": {
        "colab": {
          "base_uri": "https://localhost:8080/"
        },
        "id": "ZOGfeuWgzuxY",
        "outputId": "67ab381d-54b4-4e33-9157-abe3419653ca"
      },
      "source": [
        "pathlossc231=plc231(15, 1700, \"suburban\", 150, 30)\r\n",
        "print(\"Pathloss dalam dB : \",pathlossc231,\" dB\")"
      ],
      "execution_count": 4,
      "outputs": [
        {
          "output_type": "stream",
          "text": [
            "Pathloss dalam dB :  74.01895442309983  dB\n"
          ],
          "name": "stdout"
        }
      ]
    },
    {
      "cell_type": "code",
      "metadata": {
        "colab": {
          "base_uri": "https://localhost:8080/"
        },
        "id": "a8cfiVObz-mn",
        "outputId": "12ecface-119b-442d-a924-da5de423c693"
      },
      "source": [
        "pathlossc231=plc231(15, 1800, \"open\", 200, 30)\r\n",
        "print(\"Pathloss dalam dB : \",pathlossc231,\" dB\")"
      ],
      "execution_count": 5,
      "outputs": [
        {
          "output_type": "stream",
          "text": [
            "Pathloss dalam dB :  129.91295472587836  dB\n"
          ],
          "name": "stdout"
        }
      ]
    }
  ]
}